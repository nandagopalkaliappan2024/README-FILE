{
 "cells": [
  {
   "cell_type": "code",
   "execution_count": 1,
   "metadata": {},
   "outputs": [],
   "source": [
    "from sklearn import datasets\n",
    "from sklearn.model_selection import train_test_split\n",
    "\n",
    "iris = datasets.load_iris()\n",
    "\n",
    "X = iris.data\n",
    "y = iris.target"
   ]
  },
  {
   "cell_type": "code",
   "execution_count": 2,
   "metadata": {},
   "outputs": [
    {
     "name": "stdout",
     "output_type": "stream",
     "text": [
      "X_train (108, 4)\n",
      "X_val (27, 4)\n",
      "X_test (15, 4)\n"
     ]
    }
   ],
   "source": [
    "X_train, X_test, Y_train, Y_test = train_test_split(X, y, test_size=.10)\n",
    "X_train, X_val, Y_train, Y_val = train_test_split(X_train, Y_train, test_size=.2)\n",
    "print('X_train', X_train.shape)\n",
    "print('X_val', X_val.shape)\n",
    "print('X_test', X_test.shape)"
   ]
  },
  {
   "cell_type": "code",
   "execution_count": 3,
   "metadata": {},
   "outputs": [],
   "source": [
    "from sklearn.neural_network import MLPClassifier\n",
    "\n",
    "mlp = MLPClassifier(hidden_layer_sizes=(100,), activation='logistic',max_iter=800)"
   ]
  },
  {
   "cell_type": "code",
   "execution_count": 4,
   "metadata": {},
   "outputs": [
    {
     "name": "stdout",
     "output_type": "stream",
     "text": [
      "Akurasi Validasi Training ANN: 0.9629629629629629\n"
     ]
    }
   ],
   "source": [
    "from sklearn.metrics import accuracy_score\n",
    "\n",
    "mlp.fit(X_train, Y_train)\n",
    "prediksi_val = mlp.predict(X_val)\n",
    "\n",
    "acc_val = accuracy_score(Y_val, prediksi_val)\n",
    "print('Akurasi Validasi Training ANN:', acc_val)"
   ]
  },
  {
   "cell_type": "code",
   "execution_count": 5,
   "metadata": {},
   "outputs": [
    {
     "name": "stdout",
     "output_type": "stream",
     "text": [
      "Akurasi Testing ANN: 1.0\n"
     ]
    }
   ],
   "source": [
    "prediksi_test = mlp.predict(X_test)\n",
    "acc_test = accuracy_score(Y_test, prediksi_test)\n",
    "print('Akurasi Testing ANN:', acc_test)"
   ]
  },
  {
   "cell_type": "code",
   "execution_count": 6,
   "metadata": {},
   "outputs": [
    {
     "name": "stdout",
     "output_type": "stream",
     "text": [
      "Akurasi Testing ANN: 1.0\n"
     ]
    },
    {
     "data": {
      "image/png": "[encoded data removed]",
      "text/plain": [
       "<Figure size 432x288 with 2 Axes>"
      ]
     },
     "metadata": {
      "needs_background": "light"
     },
     "output_type": "display_data"
    }
   ],
   "source": [
    "from sklearn.metrics import accuracy_score, plot_confusion_matrix\n",
    "\n",
    "prediksi = mlp.predict(X_test)\n",
    "plot_confusion_matrix(mlp, X_test, Y_test)\n",
    "accuracy = accuracy_score(Y_test, prediksi)\n",
    "print('Akurasi Testing ANN:', accuracy)"
   ]
  },
  {
   "cell_type": "code",
   "execution_count": 7,
   "metadata": {},
   "outputs": [],
   "source": [
    "from tensorflow.keras.utils import to_categorical\n",
    "\n",
    "Y_train = to_categorical(Y_train,3)\n",
    "Y_val = to_categorical(Y_val,3)\n",
    "Y_test = to_categorical(Y_test,3)"
   ]
  },
  {
   "cell_type": "code",
   "execution_count": 8,
   "metadata": {},
   "outputs": [],
   "source": [
    "from keras.models import Sequential\n",
    "from keras.layers import Flatten, Dense\n",
    "\n",
    "model = Sequential()\n",
    "model.add(Flatten())\n",
    "model.add(Dense(64,activation='relu'))\n",
    "model.add(Dense(3,activation='softmax'))\n",
    "\n",
    "model.compile(optimizer='adam',loss='categorical_crossentropy', metrics=['acc'])"
   ]
  },
  {
   "cell_type": "code",
   "execution_count": 9,
   "metadata": {},
   "outputs": [
    {
     "name": "stdout",
     "output_type": "stream",
     "text": [
      "Epoch 1/100\n",
      "22/22 [==============================] - 5s 71ms/step - loss: 1.1989 - acc: 0.2870 - val_loss: 1.0713 - val_acc: 0.2593\n",
      "Epoch 2/100\n",
      "22/22 [==============================] - 0s 12ms/step - loss: 0.9949 - acc: 0.3796 - val_loss: 0.9462 - val_acc: 0.5556\n",
      "Epoch 3/100\n",
      "22/22 [==============================] - 0s 10ms/step - loss: 0.8892 - acc: 0.6204 - val_loss: 0.8417 - val_acc: 0.5556\n",
      "Epoch 4/100\n",
      "22/22 [==============================] - 0s 11ms/step - loss: 0.7577 - acc: 0.6852 - val_loss: 0.7650 - val_acc: 0.5556\n",
      "Epoch 5/100\n",
      "22/22 [==============================] - 0s 13ms/step - loss: 0.7028 - acc: 0.7407 - val_loss: 0.6917 - val_acc: 0.7778\n",
      "Epoch 6/100\n",
      "22/22 [==============================] - 0s 18ms/step - loss: 0.6484 - acc: 0.7037 - val_loss: 0.6720 - val_acc: 0.5556\n",
      "Epoch 7/100\n",
      "22/22 [==============================] - 0s 16ms/step - loss: 0.5806 - acc: 0.9167 - val_loss: 0.5940 - val_acc: 0.9259\n",
      "Epoch 8/100\n",
      "22/22 [==============================] - 0s 16ms/step - loss: 0.5452 - acc: 0.7315 - val_loss: 0.5884 - val_acc: 0.6296\n",
      "Epoch 9/100\n",
      "22/22 [==============================] - 0s 11ms/step - loss: 0.5165 - acc: 0.8796 - val_loss: 0.5467 - val_acc: 0.9259\n",
      "Epoch 10/100\n",
      "22/22 [==============================] - 0s 23ms/step - loss: 0.4941 - acc: 0.7500 - val_loss: 0.5124 - val_acc: 0.9630\n",
      "Epoch 11/100\n",
      "22/22 [==============================] - 0s 20ms/step - loss: 0.4628 - acc: 0.9537 - val_loss: 0.5063 - val_acc: 0.8889\n",
      "Epoch 12/100\n",
      "22/22 [==============================] - 1s 25ms/step - loss: 0.4482 - acc: 0.7407 - val_loss: 0.4746 - val_acc: 0.9630\n",
      "Epoch 13/100\n",
      "22/22 [==============================] - 0s 6ms/step - loss: 0.4318 - acc: 0.9259 - val_loss: 0.4768 - val_acc: 0.8889\n",
      "Epoch 14/100\n",
      "22/22 [==============================] - 0s 8ms/step - loss: 0.4117 - acc: 0.8056 - val_loss: 0.4514 - val_acc: 0.9630\n",
      "Epoch 15/100\n",
      "22/22 [==============================] - 0s 19ms/step - loss: 0.4283 - acc: 0.8148 - val_loss: 0.4618 - val_acc: 0.7778\n",
      "Epoch 16/100\n",
      "22/22 [==============================] - 0s 7ms/step - loss: 0.4180 - acc: 0.7130 - val_loss: 0.4026 - val_acc: 0.9259\n",
      "Epoch 17/100\n",
      "22/22 [==============================] - 0s 9ms/step - loss: 0.3832 - acc: 0.8889 - val_loss: 0.4231 - val_acc: 0.9259\n",
      "Epoch 18/100\n",
      "22/22 [==============================] - 0s 10ms/step - loss: 0.3612 - acc: 0.9167 - val_loss: 0.3963 - val_acc: 0.9630\n",
      "Epoch 19/100\n",
      "22/22 [==============================] - 0s 8ms/step - loss: 0.3518 - acc: 0.9537 - val_loss: 0.3721 - val_acc: 0.9630\n",
      "Epoch 20/100\n",
      "22/22 [==============================] - 0s 8ms/step - loss: 0.3425 - acc: 0.9537 - val_loss: 0.3653 - val_acc: 0.9630\n",
      "Epoch 21/100\n",
      "22/22 [==============================] - 0s 14ms/step - loss: 0.3317 - acc: 0.9630 - val_loss: 0.3544 - val_acc: 0.9630\n",
      "Epoch 22/100\n",
      "22/22 [==============================] - 1s 24ms/step - loss: 0.3234 - acc: 0.9537 - val_loss: 0.3513 - val_acc: 0.9630\n",
      "Epoch 23/100\n",
      "22/22 [==============================] - 0s 5ms/step - loss: 0.3200 - acc: 0.9352 - val_loss: 0.3416 - val_acc: 0.9630\n",
      "Epoch 24/100\n",
      "22/22 [==============================] - 0s 7ms/step - loss: 0.3035 - acc: 0.9722 - val_loss: 0.3373 - val_acc: 0.9630\n",
      "Epoch 25/100\n",
      "22/22 [==============================] - 0s 16ms/step - loss: 0.2967 - acc: 0.9352 - val_loss: 0.3186 - val_acc: 0.9630\n",
      "Epoch 26/100\n",
      "22/22 [==============================] - 0s 11ms/step - loss: 0.2903 - acc: 0.9630 - val_loss: 0.3206 - val_acc: 0.9630\n",
      "Epoch 27/100\n",
      "22/22 [==============================] - 1s 25ms/step - loss: 0.2870 - acc: 0.9537 - val_loss: 0.3065 - val_acc: 0.9630\n",
      "Epoch 28/100\n",
      "22/22 [==============================] - 0s 11ms/step - loss: 0.2860 - acc: 0.9352 - val_loss: 0.2847 - val_acc: 0.9259\n",
      "Epoch 29/100\n",
      "22/22 [==============================] - 0s 21ms/step - loss: 0.2609 - acc: 0.9630 - val_loss: 0.3088 - val_acc: 0.9630\n",
      "Epoch 30/100\n",
      "22/22 [==============================] - 0s 10ms/step - loss: 0.2650 - acc: 0.9444 - val_loss: 0.2845 - val_acc: 0.9630\n",
      "Epoch 31/100\n",
      "22/22 [==============================] - 0s 16ms/step - loss: 0.2521 - acc: 0.9630 - val_loss: 0.2798 - val_acc: 0.9630\n",
      "Epoch 32/100\n",
      "22/22 [==============================] - 0s 6ms/step - loss: 0.2503 - acc: 0.9722 - val_loss: 0.2851 - val_acc: 0.9630\n",
      "Epoch 33/100\n",
      "22/22 [==============================] - 1s 26ms/step - loss: 0.2471 - acc: 0.9537 - val_loss: 0.2484 - val_acc: 0.9259\n",
      "Epoch 34/100\n",
      "22/22 [==============================] - 1s 26ms/step - loss: 0.2388 - acc: 0.9537 - val_loss: 0.2853 - val_acc: 0.9630\n",
      "Epoch 35/100\n",
      "22/22 [==============================] - 0s 14ms/step - loss: 0.2355 - acc: 0.9722 - val_loss: 0.2482 - val_acc: 0.9630\n",
      "Epoch 36/100\n",
      "22/22 [==============================] - 0s 9ms/step - loss: 0.2234 - acc: 0.9630 - val_loss: 0.2386 - val_acc: 0.9630\n",
      "Epoch 37/100\n",
      "22/22 [==============================] - 0s 7ms/step - loss: 0.2181 - acc: 0.9722 - val_loss: 0.2388 - val_acc: 0.9630\n",
      "Epoch 38/100\n",
      "22/22 [==============================] - 0s 8ms/step - loss: 0.2151 - acc: 0.9630 - val_loss: 0.2352 - val_acc: 0.9630\n",
      "Epoch 39/100\n",
      "22/22 [==============================] - 0s 12ms/step - loss: 0.2120 - acc: 0.9722 - val_loss: 0.2189 - val_acc: 0.9630\n",
      "Epoch 40/100\n",
      "22/22 [==============================] - 0s 7ms/step - loss: 0.2022 - acc: 0.9722 - val_loss: 0.2355 - val_acc: 0.9630\n",
      "Epoch 41/100\n",
      "22/22 [==============================] - 0s 6ms/step - loss: 0.2000 - acc: 0.9630 - val_loss: 0.2085 - val_acc: 0.9630\n",
      "Epoch 42/100\n",
      "22/22 [==============================] - 0s 6ms/step - loss: 0.1990 - acc: 0.9537 - val_loss: 0.2143 - val_acc: 0.9630\n",
      "Epoch 43/100\n",
      "22/22 [==============================] - 0s 6ms/step - loss: 0.1921 - acc: 0.9630 - val_loss: 0.2088 - val_acc: 0.9630\n",
      "Epoch 44/100\n",
      "22/22 [==============================] - 0s 12ms/step - loss: 0.1914 - acc: 0.9537 - val_loss: 0.2047 - val_acc: 0.9630\n",
      "Epoch 45/100\n",
      "22/22 [==============================] - 0s 15ms/step - loss: 0.1837 - acc: 0.9722 - val_loss: 0.1944 - val_acc: 0.9630\n",
      "Epoch 46/100\n",
      "22/22 [==============================] - 0s 7ms/step - loss: 0.1793 - acc: 0.9722 - val_loss: 0.2007 - val_acc: 0.9630\n",
      "Epoch 47/100\n",
      "22/22 [==============================] - 0s 8ms/step - loss: 0.1796 - acc: 0.9630 - val_loss: 0.1873 - val_acc: 0.9630\n",
      "Epoch 48/100\n",
      "22/22 [==============================] - 0s 9ms/step - loss: 0.1759 - acc: 0.9537 - val_loss: 0.1782 - val_acc: 0.9630\n",
      "Epoch 49/100\n",
      "22/22 [==============================] - 0s 11ms/step - loss: 0.1769 - acc: 0.9630 - val_loss: 0.1966 - val_acc: 0.9630\n",
      "Epoch 50/100\n",
      "22/22 [==============================] - 0s 12ms/step - loss: 0.1757 - acc: 0.9537 - val_loss: 0.1919 - val_acc: 0.9630\n",
      "Epoch 51/100\n",
      "22/22 [==============================] - 0s 19ms/step - loss: 0.1663 - acc: 0.9630 - val_loss: 0.1841 - val_acc: 0.9630\n",
      "Epoch 52/100\n",
      "22/22 [==============================] - 0s 14ms/step - loss: 0.1605 - acc: 0.9537 - val_loss: 0.1668 - val_acc: 0.9630\n",
      "Epoch 53/100\n",
      "22/22 [==============================] - 0s 8ms/step - loss: 0.1580 - acc: 0.9630 - val_loss: 0.1658 - val_acc: 0.9630\n",
      "Epoch 54/100\n",
      "22/22 [==============================] - 0s 19ms/step - loss: 0.1526 - acc: 0.9630 - val_loss: 0.1827 - val_acc: 0.9630\n",
      "Epoch 55/100\n",
      "22/22 [==============================] - 0s 22ms/step - loss: 0.1514 - acc: 0.9630 - val_loss: 0.1602 - val_acc: 0.9630\n",
      "Epoch 56/100\n",
      "22/22 [==============================] - 0s 5ms/step - loss: 0.1571 - acc: 0.9630 - val_loss: 0.1553 - val_acc: 0.9630\n",
      "Epoch 57/100\n",
      "22/22 [==============================] - 0s 13ms/step - loss: 0.1580 - acc: 0.9537 - val_loss: 0.1860 - val_acc: 0.9630\n",
      "Epoch 58/100\n",
      "22/22 [==============================] - 1s 28ms/step - loss: 0.1584 - acc: 0.9722 - val_loss: 0.1502 - val_acc: 0.9630\n",
      "Epoch 59/100\n",
      "22/22 [==============================] - 0s 6ms/step - loss: 0.1436 - acc: 0.9630 - val_loss: 0.1614 - val_acc: 0.9630\n",
      "Epoch 60/100\n",
      "22/22 [==============================] - 0s 6ms/step - loss: 0.1409 - acc: 0.9630 - val_loss: 0.1675 - val_acc: 0.9630\n",
      "Epoch 61/100\n",
      "22/22 [==============================] - 0s 6ms/step - loss: 0.1425 - acc: 0.9537 - val_loss: 0.1598 - val_acc: 0.9630\n",
      "Epoch 62/100\n",
      "22/22 [==============================] - 0s 21ms/step - loss: 0.1346 - acc: 0.9630 - val_loss: 0.1494 - val_acc: 0.9630\n"
     ]
    },
    {
     "name": "stdout",
     "output_type": "stream",
     "text": [
      "Epoch 63/100\n",
      "22/22 [==============================] - 0s 8ms/step - loss: 0.1400 - acc: 0.9444 - val_loss: 0.1711 - val_acc: 0.9630\n",
      "Epoch 64/100\n",
      "22/22 [==============================] - 0s 12ms/step - loss: 0.1590 - acc: 0.9444 - val_loss: 0.1451 - val_acc: 0.9630\n",
      "Epoch 65/100\n",
      "22/22 [==============================] - 0s 7ms/step - loss: 0.1291 - acc: 0.9630 - val_loss: 0.1437 - val_acc: 0.9630\n",
      "Epoch 66/100\n",
      "22/22 [==============================] - 0s 6ms/step - loss: 0.1386 - acc: 0.9630 - val_loss: 0.1343 - val_acc: 0.9630\n",
      "Epoch 67/100\n",
      "22/22 [==============================] - 0s 6ms/step - loss: 0.1237 - acc: 0.9630 - val_loss: 0.1469 - val_acc: 0.9630\n",
      "Epoch 68/100\n",
      "22/22 [==============================] - 0s 6ms/step - loss: 0.1298 - acc: 0.9630 - val_loss: 0.1526 - val_acc: 0.9630\n",
      "Epoch 69/100\n",
      "22/22 [==============================] - 0s 6ms/step - loss: 0.1423 - acc: 0.9444 - val_loss: 0.1627 - val_acc: 0.9630\n",
      "Epoch 70/100\n",
      "22/22 [==============================] - 0s 13ms/step - loss: 0.1301 - acc: 0.9630 - val_loss: 0.1282 - val_acc: 0.9259\n",
      "Epoch 71/100\n",
      "22/22 [==============================] - 0s 10ms/step - loss: 0.1335 - acc: 0.9537 - val_loss: 0.1601 - val_acc: 0.9630\n",
      "Epoch 72/100\n",
      "22/22 [==============================] - 0s 15ms/step - loss: 0.1300 - acc: 0.9537 - val_loss: 0.1304 - val_acc: 0.9630\n",
      "Epoch 73/100\n",
      "22/22 [==============================] - 0s 8ms/step - loss: 0.1147 - acc: 0.9722 - val_loss: 0.1425 - val_acc: 0.9630\n",
      "Epoch 74/100\n",
      "22/22 [==============================] - 0s 16ms/step - loss: 0.1212 - acc: 0.9722 - val_loss: 0.1423 - val_acc: 0.9630\n",
      "Epoch 75/100\n",
      "22/22 [==============================] - 0s 11ms/step - loss: 0.1184 - acc: 0.9722 - val_loss: 0.1311 - val_acc: 0.9630\n",
      "Epoch 76/100\n",
      "22/22 [==============================] - 1s 25ms/step - loss: 0.1133 - acc: 0.9537 - val_loss: 0.1370 - val_acc: 0.9630\n",
      "Epoch 77/100\n",
      "22/22 [==============================] - 0s 9ms/step - loss: 0.1193 - acc: 0.9722 - val_loss: 0.1217 - val_acc: 0.9630\n",
      "Epoch 78/100\n",
      "22/22 [==============================] - 0s 7ms/step - loss: 0.1230 - acc: 0.9630 - val_loss: 0.1640 - val_acc: 0.9630\n",
      "Epoch 79/100\n",
      "22/22 [==============================] - 0s 14ms/step - loss: 0.1228 - acc: 0.9630 - val_loss: 0.1250 - val_acc: 0.9630\n",
      "Epoch 80/100\n",
      "22/22 [==============================] - 0s 7ms/step - loss: 0.1192 - acc: 0.9630 - val_loss: 0.1220 - val_acc: 0.9630\n",
      "Epoch 81/100\n",
      "22/22 [==============================] - 0s 23ms/step - loss: 0.1058 - acc: 0.9722 - val_loss: 0.1253 - val_acc: 0.9630\n",
      "Epoch 82/100\n",
      "22/22 [==============================] - 0s 5ms/step - loss: 0.1052 - acc: 0.9722 - val_loss: 0.1275 - val_acc: 0.9630\n",
      "Epoch 83/100\n",
      "22/22 [==============================] - 1s 27ms/step - loss: 0.1062 - acc: 0.9722 - val_loss: 0.1224 - val_acc: 0.9630\n",
      "Epoch 84/100\n",
      "22/22 [==============================] - 0s 22ms/step - loss: 0.1064 - acc: 0.9630 - val_loss: 0.1224 - val_acc: 0.9630\n",
      "Epoch 85/100\n",
      "22/22 [==============================] - 0s 16ms/step - loss: 0.1051 - acc: 0.9630 - val_loss: 0.1140 - val_acc: 0.9630\n",
      "Epoch 86/100\n",
      "22/22 [==============================] - 0s 10ms/step - loss: 0.1032 - acc: 0.9722 - val_loss: 0.1285 - val_acc: 0.9630\n",
      "Epoch 87/100\n",
      "22/22 [==============================] - 0s 7ms/step - loss: 0.1041 - acc: 0.9537 - val_loss: 0.1271 - val_acc: 0.9630\n",
      "Epoch 88/100\n",
      "22/22 [==============================] - 0s 16ms/step - loss: 0.1022 - acc: 0.9630 - val_loss: 0.1115 - val_acc: 0.9630\n",
      "Epoch 89/100\n",
      "22/22 [==============================] - 0s 6ms/step - loss: 0.1051 - acc: 0.9722 - val_loss: 0.1315 - val_acc: 0.9630\n",
      "Epoch 90/100\n",
      "22/22 [==============================] - 0s 7ms/step - loss: 0.1223 - acc: 0.9444 - val_loss: 0.1090 - val_acc: 0.9259\n",
      "Epoch 91/100\n",
      "22/22 [==============================] - 0s 10ms/step - loss: 0.1044 - acc: 0.9630 - val_loss: 0.1273 - val_acc: 0.9630\n",
      "Epoch 92/100\n",
      "22/22 [==============================] - 0s 5ms/step - loss: 0.0962 - acc: 0.9722 - val_loss: 0.1116 - val_acc: 0.9630\n",
      "Epoch 93/100\n",
      "22/22 [==============================] - 0s 12ms/step - loss: 0.0952 - acc: 0.9630 - val_loss: 0.1158 - val_acc: 0.9630\n",
      "Epoch 94/100\n",
      "22/22 [==============================] - 0s 11ms/step - loss: 0.0938 - acc: 0.9722 - val_loss: 0.1101 - val_acc: 0.9630\n",
      "Epoch 95/100\n",
      "22/22 [==============================] - 0s 16ms/step - loss: 0.0955 - acc: 0.9630 - val_loss: 0.1248 - val_acc: 0.9630\n",
      "Epoch 96/100\n",
      "22/22 [==============================] - 0s 7ms/step - loss: 0.0975 - acc: 0.9722 - val_loss: 0.1163 - val_acc: 0.9630\n",
      "Epoch 97/100\n",
      "22/22 [==============================] - 0s 15ms/step - loss: 0.0970 - acc: 0.9722 - val_loss: 0.1183 - val_acc: 0.9630\n",
      "Epoch 98/100\n",
      "22/22 [==============================] - 0s 11ms/step - loss: 0.0972 - acc: 0.9722 - val_loss: 0.1115 - val_acc: 0.9630\n",
      "Epoch 99/100\n",
      "22/22 [==============================] - 1s 24ms/step - loss: 0.0946 - acc: 0.9630 - val_loss: 0.1084 - val_acc: 0.9630\n",
      "Epoch 100/100\n",
      "22/22 [==============================] - 0s 9ms/step - loss: 0.0914 - acc: 0.9630 - val_loss: 0.1106 - val_acc: 0.9630\n"
     ]
    },
    {
     "data": {
      "text/plain": [
       "<keras.callbacks.History at 0x42e8caefa0>"
      ]
     },
     "execution_count": 9,
     "metadata": {},
     "output_type": "execute_result"
    }
   ],
   "source": [
    "model.fit(X_train,Y_train,epochs=100,batch_size=5,validation_data=(X_val,Y_val))"
   ]
  },
  {
   "cell_type": "code",
   "execution_count": 10,
   "metadata": {},
   "outputs": [
    {
     "name": "stdout",
     "output_type": "stream",
     "text": [
      "Model: \"sequential\"\n",
      "_________________________________________________________________\n",
      " Layer (type)                Output Shape              Param #   \n",
      "=================================================================\n",
      " flatten (Flatten)           (None, 4)                 0         \n",
      "                                                                 \n",
      " dense (Dense)               (None, 64)                320       \n",
      "                                                                 \n",
      " dense_1 (Dense)             (None, 3)                 195       \n",
      "                                                                 \n",
      "=================================================================\n",
      "Total params: 515\n",
      "Trainable params: 515\n",
      "Non-trainable params: 0\n",
      "_________________________________________________________________\n"
     ]
    }
   ],
   "source": [
    "model.summary()"
   ]
  },
  {
   "cell_type": "code",
   "execution_count": 11,
   "metadata": {},
   "outputs": [
    {
     "name": "stdout",
     "output_type": "stream",
     "text": [
      "1/1 [==============================] - 0s 348ms/step - loss: 0.0487 - acc: 1.0000\n",
      "Akurasi Testing ANN: 1.0\n"
     ]
    }
   ],
   "source": [
    "from sklearn.metrics import confusion_matrix\n",
    "\n",
    "loss, accuracy = model.evaluate(X_test, Y_test)\n",
    "print('Akurasi Testing ANN:', accuracy)\n"
   ]
  },
  {
   "cell_type": "code",
   "execution_count": null,
   "metadata": {},
   "outputs": [],
   "source": []
  }
 ],
 "metadata": {
  "kernelspec": {
   "display_name": "Python 3",
   "language": "python",
   "name": "python3"
  },
  "language_info": {
   "codemirror_mode": {
    "name": "ipython",
    "version": 3
   },
   "file_extension": ".py",
   "mimetype": "text/x-python",
   "name": "python",
   "nbconvert_exporter": "python",
   "pygments_lexer": "ipython3",
   "version": "3.8.8"
  }
 },
 "nbformat": 4,
 "nbformat_minor": 2
}
