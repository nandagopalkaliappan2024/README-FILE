{
 "cells": [
  {
   "cell_type": "code",
   "execution_count": null,
   "id": "15b38c8d",
   "metadata": {},
   "outputs": [],
   "source": [
    "def omp(y,A):\n",
    "    s=mt.ceil(len(y))\n",
    "    # print(s)\n",
    "    a=np.zeros((A.shape[0],0))\n",
    "    pos=np.zeros((1,s))\n",
    "    r_n=y\n",
    "#     print(np.sum(r_n))\n",
    "    if np.sum(r_n)==0:\n",
    "        hat_x=np.zeros((1,A.shape[1]))\n",
    "        return hat_x\n",
    "    # s=2\n",
    "    for k in range(0,s,1):\n",
    "        pr=abs(np.dot(A.T,r_n))\n",
    "    #     print(pr)\n",
    "        posx=np.argmax(pr)\n",
    "#         A.shape\n",
    "#         y.shape\n",
    "        a=np.column_stack((a,A[:,posx]))\n",
    "        A[:,posx]=np.zeros((1,y.shape[0]))\n",
    "        aa=np.dot(a.T,a)\n",
    "    #     print(aa)\n",
    "#         print(y)\n",
    "#         y.shape\n",
    "        pangkat=LA.matrix_power(aa,-1)\n",
    "        aug_x=np.dot(np.dot(pangkat,a.T),y)    \n",
    "        r_n=y-np.dot(a,aug_x)\n",
    "    #     print(k)\n",
    "        pos[0,k]=posx\n",
    "\n",
    "    hat_x=np.zeros((1,A.shape[1]))\n",
    "    for k in range(0,len(aug_x),1):\n",
    "    #     print(pos[0,k])\n",
    "        hat_x[0,round(pos[0,k])]=aug_x[k]\n",
    "#     print(A)\n",
    "#     print(\"Ukuran A =\"+str(A.shape))\n",
    "    return hat_x\n"
   ]
  }
 ],
 "metadata": {
  "kernelspec": {
   "display_name": "Python 3",
   "language": "python",
   "name": "python3"
  },
  "language_info": {
   "codemirror_mode": {
    "name": "ipython",
    "version": 3
   },
   "file_extension": ".py",
   "mimetype": "text/x-python",
   "name": "python",
   "nbconvert_exporter": "python",
   "pygments_lexer": "ipython3",
   "version": "3.8.8"
  }
 },
 "nbformat": 4,
 "nbformat_minor": 5
}
