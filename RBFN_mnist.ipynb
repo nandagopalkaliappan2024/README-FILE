{
 "cells": [
  {
   "cell_type": "code",
   "execution_count": 7,
   "metadata": {},
   "outputs": [
    {
     "ename": "NameError",
     "evalue": "name 'python' is not defined",
     "output_type": "error",
     "traceback": [
      "\u001b[1;31m---------------------------------------------------------------------------\u001b[0m",
      "\u001b[1;31mNameError\u001b[0m                                 Traceback (most recent call last)",
      "\u001b[1;32m<ipython-input-7-ee5290909123>\u001b[0m in \u001b[0;36m<module>\u001b[1;34m\u001b[0m\n\u001b[0;32m      1\u001b[0m \u001b[1;31m# !pip install tensorflow\u001b[0m\u001b[1;33m\u001b[0m\u001b[1;33m\u001b[0m\u001b[1;33m\u001b[0m\u001b[0m\n\u001b[1;32m----> 2\u001b[1;33m \u001b[0mpython\u001b[0m \u001b[1;33m-\u001b[0m\u001b[1;33m-\u001b[0m\u001b[0mversion\u001b[0m\u001b[1;33m\u001b[0m\u001b[1;33m\u001b[0m\u001b[0m\n\u001b[0m\u001b[0;32m      3\u001b[0m \u001b[0mpip\u001b[0m \u001b[1;33m-\u001b[0m\u001b[1;33m-\u001b[0m\u001b[0mversion\u001b[0m\u001b[1;33m\u001b[0m\u001b[1;33m\u001b[0m\u001b[0m\n",
      "\u001b[1;31mNameError\u001b[0m: name 'python' is not defined"
     ]
    }
   ],
   "source": [
    "# !pip install tensorflow\n"
   ]
  },
  {
   "cell_type": "code",
   "execution_count": 11,
   "metadata": {
    "colab": {},
    "colab_type": "code",
    "id": "rhSbQFmyGRru"
   },
   "outputs": [
    {
     "name": "stdout",
     "output_type": "stream",
     "text": [
      "(60000, 28, 28)\n",
      "(60000,)\n",
      "(10000, 28, 28)\n",
      "(10000,)\n",
      "(60000, 28, 28, 1)\n",
      "(60000, 10)\n",
      "(10000, 28, 28, 1)\n",
      "(10000, 10)\n"
     ]
    },
    {
     "data": {
      "text/plain": [
       "<matplotlib.image.AxesImage at 0x13d6b23f70>"
      ]
     },
     "execution_count": 11,
     "metadata": {},
     "output_type": "execute_result"
    },
    {
     "data": {
      "image/png": "[encoded data removed]",
      "text/plain": [
       "<Figure size 432x288 with 1 Axes>"
      ]
     },
     "metadata": {
      "needs_background": "light"
     },
     "output_type": "display_data"
    }
   ],
   "source": [
    "from tensorflow.keras.utils import to_categorical\n",
    "from keras.datasets import mnist\n",
    "\n",
    "(X_train, y_train), (X_test, y_test) = mnist.load_data()\n",
    "print(X_train.shape)\n",
    "print(y_train.shape)\n",
    "print(X_test.shape)\n",
    "print(y_test.shape)\n",
    "\n",
    "X_train = X_train.reshape(-1, 28,28,1)\n",
    "X_test = X_test.reshape(-1, 28,28,1)\n",
    "X_train = X_train.astype('float32')\n",
    "X_test = X_test.astype('float32')\n",
    "X_train /= 255\n",
    "X_test /= 255\n",
    "y_train = to_categorical(y_train, 10)\n",
    "y_test = to_categorical(y_test, 10)\n",
    "# X_test[1,:]\n",
    "\n",
    "print(X_train.shape)\n",
    "print(y_train.shape)\n",
    "print(X_test.shape)\n",
    "print(y_test.shape)\n",
    "# # # importing the required module\n",
    "import matplotlib.pyplot as plt\n",
    "\n",
    "# # # plotting the points\n",
    "plt.imshow(X_train[200])\n",
    "\n",
    "# # function to show the plot\n",
    "# plt.show()\n"
   ]
  },
  {
   "cell_type": "code",
   "execution_count": 2,
   "metadata": {},
   "outputs": [],
   "source": [
    "from keras.models import Sequential\n",
    "from keras.layers import Flatten, Dense\n",
    "\n",
    "#model 1 menggunakan Multilayer Neural Network\n",
    "\n",
    "model1 = Sequential()\n",
    "model1.add(Flatten())\n",
    "model1.add(Dense(64,activation='relu'))\n",
    "model1.add(Dense(10,activation='softmax'))"
   ]
  },
  {
   "cell_type": "code",
   "execution_count": 3,
   "metadata": {},
   "outputs": [
    {
     "name": "stdout",
     "output_type": "stream",
     "text": [
      "Epoch 1/10\n",
      "600/600 [==============================] - 4s 5ms/step - loss: 0.4073 - acc: 0.8886 - val_loss: 0.2296 - val_acc: 0.9331\n",
      "Epoch 2/10\n",
      "600/600 [==============================] - 2s 4ms/step - loss: 0.1977 - acc: 0.9428 - val_loss: 0.1656 - val_acc: 0.9517\n",
      "Epoch 3/10\n",
      "600/600 [==============================] - 2s 4ms/step - loss: 0.1476 - acc: 0.9567 - val_loss: 0.1386 - val_acc: 0.9592\n",
      "Epoch 4/10\n",
      "600/600 [==============================] - 2s 4ms/step - loss: 0.1189 - acc: 0.9656 - val_loss: 0.1173 - val_acc: 0.9660\n",
      "Epoch 5/10\n",
      "600/600 [==============================] - 2s 4ms/step - loss: 0.1004 - acc: 0.9710 - val_loss: 0.1093 - val_acc: 0.9671\n",
      "Epoch 6/10\n",
      "600/600 [==============================] - 3s 4ms/step - loss: 0.0860 - acc: 0.9753 - val_loss: 0.1028 - val_acc: 0.9690\n",
      "Epoch 7/10\n",
      "600/600 [==============================] - 2s 4ms/step - loss: 0.0749 - acc: 0.9785 - val_loss: 0.0986 - val_acc: 0.9696\n",
      "Epoch 8/10\n",
      "600/600 [==============================] - 2s 4ms/step - loss: 0.0655 - acc: 0.9808 - val_loss: 0.0937 - val_acc: 0.9701\n",
      "Epoch 9/10\n",
      "600/600 [==============================] - 2s 4ms/step - loss: 0.0586 - acc: 0.9828 - val_loss: 0.0927 - val_acc: 0.9711\n",
      "Epoch 10/10\n",
      "600/600 [==============================] - 2s 4ms/step - loss: 0.0507 - acc: 0.9852 - val_loss: 0.0837 - val_acc: 0.9741\n"
     ]
    }
   ],
   "source": [
    "\n",
    "model1.compile(optimizer='adam',loss='categorical_crossentropy',metrics=['acc'])\n",
    "history1 = model1.fit(X_train,y_train,epochs=10,batch_size=100,validation_data=(X_test,y_test))\n",
    "model1.save('my_model.h5')"
   ]
  },
  {
   "cell_type": "code",
   "execution_count": 4,
   "metadata": {},
   "outputs": [
    {
     "name": "stdout",
     "output_type": "stream",
     "text": [
      "Model: \"sequential\"\n",
      "_________________________________________________________________\n",
      "Layer (type)                 Output Shape              Param #   \n",
      "=================================================================\n",
      "flatten (Flatten)            (100, 784)                0         \n",
      "_________________________________________________________________\n",
      "dense (Dense)                (100, 64)                 50240     \n",
      "_________________________________________________________________\n",
      "dense_1 (Dense)              (100, 10)                 650       \n",
      "=================================================================\n",
      "Total params: 50,890\n",
      "Trainable params: 50,890\n",
      "Non-trainable params: 0\n",
      "_________________________________________________________________\n"
     ]
    }
   ],
   "source": [
    "model1.summary()"
   ]
  },
  {
   "cell_type": "code",
   "execution_count": 5,
   "metadata": {},
   "outputs": [
    {
     "name": "stdout",
     "output_type": "stream",
     "text": [
      "313/313 [==============================] - 1s 3ms/step - loss: 0.0837 - acc: 0.9741\n"
     ]
    },
    {
     "data": {
      "text/plain": [
       "[0.08370501548051834, 0.9740999937057495]"
      ]
     },
     "execution_count": 5,
     "metadata": {},
     "output_type": "execute_result"
    }
   ],
   "source": [
    "model1.evaluate(X_test,y_test)"
   ]
  },
  {
   "cell_type": "code",
   "execution_count": 6,
   "metadata": {},
   "outputs": [
    {
     "data": {
      "text/plain": [
       "<matplotlib.legend.Legend at 0x247ceab340>"
      ]
     },
     "execution_count": 6,
     "metadata": {},
     "output_type": "execute_result"
    },
    {
     "data": {
      "image/png": "[encoded data removed]",
      "text/plain": [
       "<Figure size 432x288 with 1 Axes>"
      ]
     },
     "metadata": {
      "needs_background": "light"
     },
     "output_type": "display_data"
    }
   ],
   "source": [
    "import matplotlib.pyplot as plt\n",
    "\n",
    "epochs = range(10)\n",
    "\n",
    "loss1 = history1.history['loss']\n",
    "val_loss1 = history1.history['val_loss']\n",
    "\n",
    "plt.plot(epochs,loss1,'r',label='training loss ANN')\n",
    "plt.plot(epochs,val_loss1,'b',label='validasi loss ANN')\n",
    "plt.legend()"
   ]
  },
  {
   "cell_type": "code",
   "execution_count": 7,
   "metadata": {},
   "outputs": [
    {
     "name": "stdout",
     "output_type": "stream",
     "text": [
      "label actual: 3\n",
      "label prediction: 3\n"
     ]
    }
   ],
   "source": [
    "import numpy as np\n",
    "from keras.models import load_model\n",
    "\n",
    "model_simpan = load_model('my_model.h5')\n",
    "pred = model_simpan.predict(X_test)\n",
    "print('label actual:',np.argmax(y_test[30]))\n",
    "print('label prediction:',np.argmax(pred[30]))"
   ]
  },
  {
   "cell_type": "code",
   "execution_count": 8,
   "metadata": {
    "colab": {},
    "colab_type": "code",
    "id": "zbiRT3xlGMEq"
   },
   "outputs": [],
   "source": [
    "from keras.models import Sequential\n",
    "from keras.layers import Conv2D, MaxPooling2D, Flatten, Dense\n",
    "\n",
    "#model2 menggunakan Convolutional Neural Network\n",
    "\n",
    "model2 = Sequential()\n",
    "model2.add(Conv2D(16,(3,3),activation='relu',input_shape=(28,28,1),padding='same'))\n",
    "model2.add(MaxPooling2D(2,2))\n",
    "model2.add(Conv2D(32,(3,3),activation='relu',padding='same'))\n",
    "model2.add(MaxPooling2D(2,2))\n",
    "\n",
    "model2.add(Flatten())\n",
    "model2.add(Dense(64,activation='relu'))\n",
    "model2.add(Dense(10,activation='softmax'))"
   ]
  },
  {
   "cell_type": "code",
   "execution_count": 9,
   "metadata": {
    "colab": {},
    "colab_type": "code",
    "id": "SYBNfmHzHAA_"
   },
   "outputs": [
    {
     "name": "stdout",
     "output_type": "stream",
     "text": [
      "Model: \"sequential_1\"\n",
      "_________________________________________________________________\n",
      "Layer (type)                 Output Shape              Param #   \n",
      "=================================================================\n",
      "conv2d (Conv2D)              (None, 28, 28, 16)        160       \n",
      "_________________________________________________________________\n",
      "max_pooling2d (MaxPooling2D) (None, 14, 14, 16)        0         \n",
      "_________________________________________________________________\n",
      "conv2d_1 (Conv2D)            (None, 14, 14, 32)        4640      \n",
      "_________________________________________________________________\n",
      "max_pooling2d_1 (MaxPooling2 (None, 7, 7, 32)          0         \n",
      "_________________________________________________________________\n",
      "flatten_1 (Flatten)          (None, 1568)              0         \n",
      "_________________________________________________________________\n",
      "dense_2 (Dense)              (None, 64)                100416    \n",
      "_________________________________________________________________\n",
      "dense_3 (Dense)              (None, 10)                650       \n",
      "=================================================================\n",
      "Total params: 105,866\n",
      "Trainable params: 105,866\n",
      "Non-trainable params: 0\n",
      "_________________________________________________________________\n"
     ]
    }
   ],
   "source": [
    "model2.summary()"
   ]
  },
  {
   "cell_type": "code",
   "execution_count": 10,
   "metadata": {
    "colab": {},
    "colab_type": "code",
    "id": "BFZPMTneIP2M"
   },
   "outputs": [
    {
     "name": "stdout",
     "output_type": "stream",
     "text": [
      "Epoch 1/10\n",
      "600/600 [==============================] - 60s 99ms/step - loss: 0.2386 - acc: 0.9294 - val_loss: 0.0708 - val_acc: 0.9771\n",
      "Epoch 2/10\n",
      "600/600 [==============================] - 64s 106ms/step - loss: 0.0689 - acc: 0.9790 - val_loss: 0.0554 - val_acc: 0.9818\n",
      "Epoch 3/10\n",
      "600/600 [==============================] - 67s 112ms/step - loss: 0.0488 - acc: 0.9850 - val_loss: 0.0421 - val_acc: 0.9865\n",
      "Epoch 4/10\n",
      "600/600 [==============================] - 62s 103ms/step - loss: 0.0369 - acc: 0.9884 - val_loss: 0.0355 - val_acc: 0.9879\n",
      "Epoch 5/10\n",
      "600/600 [==============================] - 59s 99ms/step - loss: 0.0304 - acc: 0.9908 - val_loss: 0.0372 - val_acc: 0.9883\n",
      "Epoch 6/10\n",
      "600/600 [==============================] - 59s 98ms/step - loss: 0.0246 - acc: 0.9920 - val_loss: 0.0345 - val_acc: 0.9885\n",
      "Epoch 7/10\n",
      "600/600 [==============================] - 59s 98ms/step - loss: 0.0205 - acc: 0.9935 - val_loss: 0.0317 - val_acc: 0.9897\n",
      "Epoch 8/10\n",
      "600/600 [==============================] - 59s 98ms/step - loss: 0.0169 - acc: 0.9946 - val_loss: 0.0312 - val_acc: 0.9898\n",
      "Epoch 9/10\n",
      "600/600 [==============================] - 59s 98ms/step - loss: 0.0142 - acc: 0.9955 - val_loss: 0.0314 - val_acc: 0.9895\n",
      "Epoch 10/10\n",
      "600/600 [==============================] - 59s 98ms/step - loss: 0.0116 - acc: 0.9966 - val_loss: 0.0381 - val_acc: 0.9882\n"
     ]
    }
   ],
   "source": [
    "model2.compile(optimizer='adam',loss='categorical_crossentropy',metrics=['acc'])\n",
    "\n",
    "history2 = model2.fit(X_train,y_train,epochs=10,batch_size=100,validation_data=(X_test,y_test))\n",
    "model2.save('my_model2.h5')"
   ]
  },
  {
   "cell_type": "code",
   "execution_count": 11,
   "metadata": {},
   "outputs": [
    {
     "name": "stdout",
     "output_type": "stream",
     "text": [
      "313/313 [==============================] - 4s 13ms/step - loss: 0.0381 - acc: 0.9882\n"
     ]
    },
    {
     "data": {
      "text/plain": [
       "[0.038137953728437424, 0.9882000088691711]"
      ]
     },
     "execution_count": 11,
     "metadata": {},
     "output_type": "execute_result"
    }
   ],
   "source": [
    "model2.evaluate(X_test,y_test)"
   ]
  },
  {
   "cell_type": "code",
   "execution_count": 12,
   "metadata": {},
   "outputs": [
    {
     "name": "stdout",
     "output_type": "stream",
     "text": [
      "label actual: 3\n",
      "label prediction: 3\n"
     ]
    }
   ],
   "source": [
    "import numpy as np\n",
    "from keras.models import load_model\n",
    "\n",
    "model_simpan2 = load_model('my_model2.h5')\n",
    "pred = model_simpan2.predict(X_test)\n",
    "print('label actual:',np.argmax(y_test[30]))\n",
    "print('label prediction:',np.argmax(pred[30]))"
   ]
  },
  {
   "cell_type": "code",
   "execution_count": 13,
   "metadata": {},
   "outputs": [
    {
     "data": {
      "text/plain": [
       "<matplotlib.legend.Legend at 0x240bdefee0>"
      ]
     },
     "execution_count": 13,
     "metadata": {},
     "output_type": "execute_result"
    },
    {
     "data": {
      "image/png": "[encoded data removed]",
      "text/plain": [
       "<Figure size 432x288 with 1 Axes>"
      ]
     },
     "metadata": {
      "needs_background": "light"
     },
     "output_type": "display_data"
    }
   ],
   "source": [
    "import matplotlib.pyplot as plt\n",
    "\n",
    "epochs = range(10)\n",
    "\n",
    "loss2 = history2.history['loss']\n",
    "val_loss2 = history2.history['val_loss']\n",
    "\n",
    "plt.plot(epochs,loss2,'r',label='train loss CNN')\n",
    "plt.plot(epochs,val_loss2,'b',label='val loss CNN')\n",
    "plt.legend()"
   ]
  },
  {
   "cell_type": "code",
   "execution_count": 14,
   "metadata": {
    "colab": {},
    "colab_type": "code",
    "id": "h9CIDXZhKwsM"
   },
   "outputs": [
    {
     "data": {
      "text/plain": [
       "<matplotlib.legend.Legend at 0x240b9528b0>"
      ]
     },
     "execution_count": 14,
     "metadata": {},
     "output_type": "execute_result"
    },
    {
     "data": {
      "image/png": "[encoded data removed]",
      "text/plain": [
       "<Figure size 432x288 with 1 Axes>"
      ]
     },
     "metadata": {
      "needs_background": "light"
     },
     "output_type": "display_data"
    }
   ],
   "source": [
    "import matplotlib.pyplot as plt\n",
    "\n",
    "epochs = range(10)\n",
    "\n",
    "acc1 = history1.history['acc']\n",
    "val_acc1 = history1.history['val_acc']\n",
    "\n",
    "plt.plot(epochs,acc1,'r',label='training MLP')\n",
    "plt.plot(epochs,val_acc1,'b',label='validasi MLP')\n",
    "\n",
    "acc2 = history2.history['acc']\n",
    "val_acc2 = history2.history['val_acc']\n",
    "\n",
    "plt.plot(epochs,acc2,'r+',label='training CNN')\n",
    "plt.plot(epochs,val_acc2,'b+',label='validasi CNN')\n",
    "plt.legend()"
   ]
  },
  {
   "cell_type": "code",
   "execution_count": 15,
   "metadata": {},
   "outputs": [
    {
     "data": {
      "text/plain": [
       "<matplotlib.legend.Legend at 0x247ad7c340>"
      ]
     },
     "execution_count": 15,
     "metadata": {},
     "output_type": "execute_result"
    },
    {
     "data": {
      "image/png": "[encoded data removed]",
      "text/plain": [
       "<Figure size 432x288 with 1 Axes>"
      ]
     },
     "metadata": {
      "needs_background": "light"
     },
     "output_type": "display_data"
    }
   ],
   "source": [
    "import matplotlib.pyplot as plt\n",
    "\n",
    "epochs = range(10)\n",
    "\n",
    "loss1 = history1.history['loss']\n",
    "val_loss1 = history1.history['val_loss']\n",
    "\n",
    "plt.plot(epochs,loss1,'r',label='train loss ANN')\n",
    "plt.plot(epochs,val_loss1,'b',label='val loss ANN')\n",
    "\n",
    "loss2 = history2.history['loss']\n",
    "val_loss2 = history2.history['val_loss']\n",
    "\n",
    "plt.plot(epochs,loss2,'r+',label='train loss CNN')\n",
    "plt.plot(epochs,val_loss2,'b+',label='val loss CNN')\n",
    "plt.legend()"
   ]
  },
  {
   "cell_type": "code",
   "execution_count": 16,
   "metadata": {},
   "outputs": [],
   "source": [
    "from keras.models import Sequential\n",
    "from keras.layers import Conv2D, MaxPooling2D, Flatten, Dense, Dropout\n",
    "\n",
    "#model 3 Convolutional Neural Network dengan Dropout\n",
    "\n",
    "model3 = Sequential()\n",
    "model3.add(Conv2D(16,(3,3),activation='relu',input_shape=(28,28,1),padding='same'))\n",
    "model3.add(MaxPooling2D(2,2))\n",
    "model3.add(Conv2D(32,(3,3),activation='relu',padding='same'))\n",
    "model3.add(MaxPooling2D(2,2))\n",
    "\n",
    "model3.add(Flatten())\n",
    "model3.add(Dense(64,activation='relu'))\n",
    "model3.add(Dropout(0.5))\n",
    "model3.add(Dense(10,activation='softmax'))"
   ]
  },
  {
   "cell_type": "code",
   "execution_count": 17,
   "metadata": {},
   "outputs": [
    {
     "name": "stdout",
     "output_type": "stream",
     "text": [
      "Model: \"sequential_2\"\n",
      "_________________________________________________________________\n",
      "Layer (type)                 Output Shape              Param #   \n",
      "=================================================================\n",
      "conv2d_2 (Conv2D)            (None, 28, 28, 16)        160       \n",
      "_________________________________________________________________\n",
      "max_pooling2d_2 (MaxPooling2 (None, 14, 14, 16)        0         \n",
      "_________________________________________________________________\n",
      "conv2d_3 (Conv2D)            (None, 14, 14, 32)        4640      \n",
      "_________________________________________________________________\n",
      "max_pooling2d_3 (MaxPooling2 (None, 7, 7, 32)          0         \n",
      "_________________________________________________________________\n",
      "flatten_2 (Flatten)          (None, 1568)              0         \n",
      "_________________________________________________________________\n",
      "dense_4 (Dense)              (None, 64)                100416    \n",
      "_________________________________________________________________\n",
      "dropout (Dropout)            (None, 64)                0         \n",
      "_________________________________________________________________\n",
      "dense_5 (Dense)              (None, 10)                650       \n",
      "=================================================================\n",
      "Total params: 105,866\n",
      "Trainable params: 105,866\n",
      "Non-trainable params: 0\n",
      "_________________________________________________________________\n"
     ]
    }
   ],
   "source": [
    "model3.summary()"
   ]
  },
  {
   "cell_type": "code",
   "execution_count": 18,
   "metadata": {},
   "outputs": [
    {
     "name": "stdout",
     "output_type": "stream",
     "text": [
      "Epoch 1/10\n",
      "600/600 [==============================] - 59s 97ms/step - loss: 0.4428 - acc: 0.8619 - val_loss: 0.0825 - val_acc: 0.9735\n",
      "Epoch 2/10\n",
      "600/600 [==============================] - 59s 98ms/step - loss: 0.1574 - acc: 0.9535 - val_loss: 0.0508 - val_acc: 0.9824\n",
      "Epoch 3/10\n",
      "600/600 [==============================] - 59s 99ms/step - loss: 0.1184 - acc: 0.9641 - val_loss: 0.0428 - val_acc: 0.9854\n",
      "Epoch 4/10\n",
      "600/600 [==============================] - 59s 99ms/step - loss: 0.1008 - acc: 0.9701 - val_loss: 0.0405 - val_acc: 0.9876\n",
      "Epoch 5/10\n",
      "600/600 [==============================] - 59s 98ms/step - loss: 0.0873 - acc: 0.9744 - val_loss: 0.0340 - val_acc: 0.9886\n",
      "Epoch 6/10\n",
      "600/600 [==============================] - 59s 98ms/step - loss: 0.0788 - acc: 0.9761 - val_loss: 0.0361 - val_acc: 0.9874 a - ETA: 0s - loss: 0.0788 - acc: 0\n",
      "Epoch 7/10\n",
      "600/600 [==============================] - 59s 98ms/step - loss: 0.0698 - acc: 0.9788 - val_loss: 0.0315 - val_acc: 0.9891ss: 0.0698 - acc\n",
      "Epoch 8/10\n",
      "600/600 [==============================] - 59s 99ms/step - loss: 0.0650 - acc: 0.9797 - val_loss: 0.0310 - val_acc: 0.9895\n",
      "Epoch 9/10\n",
      "600/600 [==============================] - 57s 96ms/step - loss: 0.0597 - acc: 0.9819 - val_loss: 0.0341 - val_acc: 0.9890\n",
      "Epoch 10/10\n",
      "600/600 [==============================] - 56s 93ms/step - loss: 0.0574 - acc: 0.9824 - val_loss: 0.0294 - val_acc: 0.9897\n"
     ]
    }
   ],
   "source": [
    "model3.compile(optimizer='adam',loss='categorical_crossentropy',metrics=['acc'])\n",
    "\n",
    "history3 = model3.fit(X_train,y_train,epochs=10,batch_size=100,validation_data=(X_test,y_test))"
   ]
  },
  {
   "cell_type": "code",
   "execution_count": 19,
   "metadata": {},
   "outputs": [
    {
     "name": "stdout",
     "output_type": "stream",
     "text": [
      "313/313 [==============================] - 4s 12ms/step - loss: 0.0294 - acc: 0.9897\n"
     ]
    },
    {
     "data": {
      "text/plain": [
       "[0.029388558119535446, 0.9897000193595886]"
      ]
     },
     "execution_count": 19,
     "metadata": {},
     "output_type": "execute_result"
    }
   ],
   "source": [
    "model3.evaluate(X_test,y_test)"
   ]
  },
  {
   "cell_type": "code",
   "execution_count": 20,
   "metadata": {},
   "outputs": [
    {
     "name": "stdout",
     "output_type": "stream",
     "text": [
      "label actual: 3\n",
      "label prediction: 3\n"
     ]
    }
   ],
   "source": [
    "pred = model3.predict(X_test)\n",
    "print('label actual:',np.argmax(y_test[30]))\n",
    "print('label prediction:',np.argmax(pred[30]))"
   ]
  },
  {
   "cell_type": "code",
   "execution_count": 21,
   "metadata": {},
   "outputs": [
    {
     "data": {
      "text/plain": [
       "<matplotlib.legend.Legend at 0x240b4a6940>"
      ]
     },
     "execution_count": 21,
     "metadata": {},
     "output_type": "execute_result"
    },
    {
     "data": {
      "image/png": "[encoded data removed]",
      "text/plain": [
       "<Figure size 432x288 with 1 Axes>"
      ]
     },
     "metadata": {
      "needs_background": "light"
     },
     "output_type": "display_data"
    }
   ],
   "source": [
    "import matplotlib.pyplot as plt\n",
    "\n",
    "acc2 = history2.history['acc']\n",
    "val_acc2 = history2.history['val_acc']\n",
    "\n",
    "epochs = range(10)\n",
    "\n",
    "plt.plot(epochs,acc2,'r',label='training CNN')\n",
    "plt.plot(epochs,val_acc2,'b',label='testing CNN')\n",
    "\n",
    "acc3 = history3.history['acc']\n",
    "val_acc3 = history3.history['val_acc']\n",
    "\n",
    "plt.plot(epochs,acc3,'r+',label='training CNN with Dropout')\n",
    "plt.plot(epochs,val_acc3,'b+',label='testing CNN with Dropout')\n",
    "plt.legend()"
   ]
  },
  {
   "cell_type": "code",
   "execution_count": 22,
   "metadata": {},
   "outputs": [
    {
     "data": {
      "text/plain": [
       "<matplotlib.legend.Legend at 0x240b508fd0>"
      ]
     },
     "execution_count": 22,
     "metadata": {},
     "output_type": "execute_result"
    },
    {
     "data": {
      "image/png": "[encoded data removed]",
      "text/plain": [
       "<Figure size 432x288 with 1 Axes>"
      ]
     },
     "metadata": {
      "needs_background": "light"
     },
     "output_type": "display_data"
    }
   ],
   "source": [
    "import matplotlib.pyplot as plt\n",
    "\n",
    "loss2 = history2.history['loss']\n",
    "val_loss2 = history2.history['val_loss']\n",
    "\n",
    "epochs = range(10)\n",
    "\n",
    "plt.plot(epochs,loss2,'r',label='training CNN')\n",
    "plt.plot(epochs,val_loss2,'b',label='testing CNN')\n",
    "\n",
    "loss3 = history3.history['loss']\n",
    "val_loss3 = history3.history['val_loss']\n",
    "\n",
    "plt.plot(epochs,loss3,'r+',label='training CNN with Dropout')\n",
    "plt.plot(epochs,val_loss3,'b+',label='testing CNN with Dropout')\n",
    "plt.legend()"
   ]
  },
  {
   "cell_type": "code",
   "execution_count": null,
   "metadata": {},
   "outputs": [],
   "source": []
  }
 ],
 "metadata": {
  "accelerator": "GPU",
  "colab": {
   "name": "cv_demo2.ipynb",
   "provenance": [],
   "version": "0.3.2"
  },
  "kernelspec": {
   "display_name": "Python 3",
   "language": "python",
   "name": "python3"
  },
  "language_info": {
   "codemirror_mode": {
    "name": "ipython",
    "version": 3
   },
   "file_extension": ".py",
   "mimetype": "text/x-python",
   "name": "python",
   "nbconvert_exporter": "python",
   "pygments_lexer": "ipython3",
   "version": "3.8.8"
  }
 },
 "nbformat": 4,
 "nbformat_minor": 1
}
